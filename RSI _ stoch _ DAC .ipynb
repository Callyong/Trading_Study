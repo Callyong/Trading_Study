{
 "cells": [
  {
   "cell_type": "code",
   "execution_count": 2,
   "metadata": {},
   "outputs": [],
   "source": [
    "from pandas_datareader import data\n",
    "import pandas_datareader as pdr\n",
    "import pandas as pd\n",
    "import numpy as np\n",
    "import talib as ta1\n",
    "import pandas_ta as ta\n",
    "import datetime\n",
    "import requests\n",
    "\n",
    "import warnings\n",
    "warnings.filterwarnings('ignore')\n",
    "warnings.warn('DelftStack')\n",
    "warnings.warn('Do not show this message')\n"
   ]
  },
  {
   "cell_type": "markdown",
   "metadata": {},
   "source": [
    "# Retrieve Trading data from houbi , 1 min interval"
   ]
  },
  {
   "cell_type": "code",
   "execution_count": 3,
   "metadata": {},
   "outputs": [],
   "source": [
    "ticker = 'ethusdt'\n",
    "base = 'https://api.huobi.pro'\n",
    "url = '/market/history/kline?period=60min&size=2000&symbol='+ ticker\n",
    "final_url = base + url\n",
    "\n",
    "reqs = requests.get(final_url)\n",
    "\n",
    "df = pd.DataFrame(reqs.json()['data'])\n",
    "df[\"Date\"] = pd.to_datetime(df[\"id\"], unit='s', origin='unix')\n",
    "df[\"Date\"] = df[\"Date\"].dt.strftime(\"%m/%d/%Y %H:%M:%S\")\n",
    "df.drop('id',axis = 1, inplace = True)\n",
    "df['Date'] = pd.to_datetime(df['Date'])\n",
    "df.set_index('Date',inplace = True)\n",
    "df.rename(columns={'high':'High','low':'Low','open':'Open','close':'Close','vol':'Volume'},inplace=True)\n",
    "df['Adj Close']= df['Close']\n",
    "#df = df[['High','Low','Open','Close','Volume','Adj Close']]\n",
    "df.sort_index(inplace = True)\n",
    "\n"
   ]
  },
  {
   "cell_type": "markdown",
   "metadata": {},
   "source": [
    "# RSI indicator"
   ]
  },
  {
   "cell_type": "code",
   "execution_count": 4,
   "metadata": {},
   "outputs": [],
   "source": [
    "df['RSI'] = ta.rsi(df['Close'],Length = 7)\n",
    "df['RSI<30'] = df['RSI'].apply(lambda x:  1 if x <= 30 else 0 )\n",
    "df['RSI>70'] = df['RSI'].apply(lambda x:  1 if x >= 70 else 0 )"
   ]
  },
  {
   "cell_type": "markdown",
   "metadata": {},
   "source": [
    "# Create DAC\n",
    "- Buy lower when price goes lower then initial buy price\n",
    "    - 1st   : x price < then RSI 30\n",
    "    - subsequence 1% lower : buy 50 percent of previous price\n",
    "    - sell while price above 1% of average buy price\n",
    "\n"
   ]
  },
  {
   "cell_type": "code",
   "execution_count": 25,
   "metadata": {},
   "outputs": [
    {
     "name": "stdout",
     "output_type": "stream",
     "text": [
      "2679.936435 3.0303030303030303\n",
      "2653.13707065 6.0606060606060606\n",
      "2626.6056999435 6.0606060606060606\n",
      "2600.339642944065 9.090909090909092\n",
      "2574.3362465146242 15.151515151515152\n",
      "2548.592884049478 24.242424242424242\n",
      "2523.1069552089834 33.333333333333336\n",
      "100.0\n"
     ]
    },
    {
     "ename": "NameError",
     "evalue": "name 'TP_price' is not defined",
     "output_type": "error",
     "traceback": [
      "\u001b[0;31m---------------------------------------------------------------------------\u001b[0m",
      "\u001b[0;31mNameError\u001b[0m                                 Traceback (most recent call last)",
      "\u001b[0;32m<ipython-input-25-b38e45ff2a69>\u001b[0m in \u001b[0;36m<module>\u001b[0;34m\u001b[0m\n\u001b[1;32m     39\u001b[0m         \u001b[0mbuying\u001b[0m \u001b[0;34m=\u001b[0m \u001b[0;32mTrue\u001b[0m\u001b[0;34m\u001b[0m\u001b[0;34m\u001b[0m\u001b[0m\n\u001b[1;32m     40\u001b[0m \u001b[0;34m\u001b[0m\u001b[0m\n\u001b[0;32m---> 41\u001b[0;31m     \u001b[0;32mif\u001b[0m \u001b[0mbuying\u001b[0m \u001b[0;34m==\u001b[0m \u001b[0;32mTrue\u001b[0m \u001b[0;32mand\u001b[0m \u001b[0mdf\u001b[0m\u001b[0;34m[\u001b[0m\u001b[0;34m'Close'\u001b[0m\u001b[0;34m]\u001b[0m\u001b[0;34m[\u001b[0m\u001b[0mx\u001b[0m\u001b[0;34m]\u001b[0m \u001b[0;34m>\u001b[0m \u001b[0mTP_price\u001b[0m\u001b[0;34m:\u001b[0m\u001b[0;34m\u001b[0m\u001b[0;34m\u001b[0m\u001b[0m\n\u001b[0m\u001b[1;32m     42\u001b[0m         \u001b[0mdf\u001b[0m\u001b[0;34m[\u001b[0m\u001b[0;34m'Budget'\u001b[0m\u001b[0;34m]\u001b[0m\u001b[0;34m[\u001b[0m\u001b[0mx\u001b[0m\u001b[0;34m]\u001b[0m \u001b[0;34m=\u001b[0m \u001b[0;36m1\u001b[0m\u001b[0;34m\u001b[0m\u001b[0;34m\u001b[0m\u001b[0m\n\u001b[1;32m     43\u001b[0m         \u001b[0mbuying\u001b[0m \u001b[0;34m=\u001b[0m \u001b[0;32mFalse\u001b[0m\u001b[0;34m\u001b[0m\u001b[0;34m\u001b[0m\u001b[0m\n",
      "\u001b[0;31mNameError\u001b[0m: name 'TP_price' is not defined"
     ]
    }
   ],
   "source": [
    "buying = False\n",
    "N = 8 # max buying\n",
    "alocate_cost = (N * 4)+1 #break to 33 times\n",
    "df['Budget'] = 100\n",
    "df['Cost'] = np.nan\n",
    "df['Average Cost'] = np.nan\n",
    "\n",
    "for x in range(len(df)):\n",
    "    if df['RSI<30'][x] == 1 and buying == False:\n",
    "        buy_datetime = df.index[x]\n",
    "        df['Cost'][x]  = df['Budget'][x-1] # lock down the price when enter\n",
    "        #subsequence price & alocation cost \n",
    "        buy_price_1 , budget_1= df['Close'][x]*0.99 , df['Cost'][x] * 1/alocate_cost\n",
    "        buy_price_2 , budget_2= buy_price_1*0.99 , df['Cost'][x] * 1/alocate_cost\n",
    "        buy_price_3 , budget_3= buy_price_2*0.99 , df['Cost'][x] * 2/alocate_cost\n",
    "        buy_price_4 , budget_4= buy_price_3*0.99 , df['Cost'][x] * 2/alocate_cost\n",
    "        buy_price_5 , budget_5= buy_price_4*0.99 , df['Cost'][x] * 3/alocate_cost\n",
    "        buy_price_6 , budget_6= buy_price_5*0.99 , df['Cost'][x] * 5/alocate_cost\n",
    "        buy_price_7 , budget_7= buy_price_6*0.99 , df['Cost'][x] * 8/alocate_cost\n",
    "        buy_price_8 , budget_8= buy_price_7*0.99 , df['Cost'][x] * 11/alocate_cost\n",
    "        buying = True\n",
    "        #print(buy_datetime)\n",
    "        #print(buy_price)\n",
    "        #print(buy_price_2,budget_2)\n",
    "        #print(buy_price_3,budget_3)\n",
    "        #print(buy_price_4,budget_4)\n",
    "        #print(buy_price_5,budget_5)\n",
    "        #print(buy_price_6,budget_6)\n",
    "        #print(buy_price_7,budget_7)\n",
    "        #print(buy_price_8,budget_8)     \n",
    "        #print(budget_1+budget_2+budget_3+budget_4+budget_5+budget_6+budget_7+budget_8)\n",
    "\n",
    "    if buying == True : ##DAC\n",
    "        ## calculate average price \n",
    "        if df['Low'][x] <= buy_price_8:\n",
    "            N = N -1 \n",
    "\n",
    "        elif df['Low'][x] <= buy_price_7:\n",
    "            print[df['Low'][x]]\n",
    "\n",
    "        elif df['Low'][x] <= buy_price_6:\n",
    "            print[df['Low'][x]]\n",
    "\n",
    "        elif df['Low'][x] <= buy_price_5:\n",
    "            print[df['Low'][x]]\n",
    "\n",
    "        elif df['Low'][x] <= buy_price_4:\n",
    "            print[df['Low'][x]]\n",
    "\n",
    "        elif df['Low'][x] <= buy_price_3:\n",
    "            print[df['Low'][x]]\n",
    "\n",
    "        elif df['Low'][x] <= buy_price_2:\n",
    "            print[df['Low'][x]]\n",
    "\n",
    "        elif df['Low'][x] <= buy_price_1:\n",
    "            print[df['Low'][x]]\n",
    "\n",
    "\n",
    "\n",
    "\n",
    "        buy_price = df['Close'][x]\n",
    "        #TP_price = buy_price * 1.01 # buy_price need to update \n",
    "        \n",
    "        buying = True\n",
    "\n",
    "    if buying == True and df['Close'][x] > TP_price: \n",
    "        df['Budget'][x] = 1\n",
    "        buying = False\n"
   ]
  },
  {
   "cell_type": "markdown",
   "metadata": {},
   "source": [
    "# Trading Condition\n",
    "- Long signal when RSI value below 30 \n",
    "- Short signal when RSI value above 70"
   ]
  },
  {
   "cell_type": "code",
   "execution_count": null,
   "metadata": {},
   "outputs": [],
   "source": []
  },
  {
   "cell_type": "markdown",
   "metadata": {},
   "source": [
    "# Analysis"
   ]
  },
  {
   "cell_type": "code",
   "execution_count": 19,
   "metadata": {},
   "outputs": [
    {
     "name": "stdout",
     "output_type": "stream",
     "text": [
      "83 days 07:00:00\n"
     ]
    },
    {
     "data": {
      "text/plain": [
       "0    1873\n",
       "1     127\n",
       "Name: RSI<30, dtype: int64"
      ]
     },
     "execution_count": 19,
     "metadata": {},
     "output_type": "execute_result"
    }
   ],
   "source": [
    "# Number of RSI below 30 signal \n",
    "print(max(df.index) - min(df.index))\n",
    "df['RSI<30'].value_counts()"
   ]
  },
  {
   "cell_type": "code",
   "execution_count": null,
   "metadata": {},
   "outputs": [],
   "source": []
  }
 ],
 "metadata": {
  "interpreter": {
   "hash": "c5dddace277728261e2db8b80bd56b6c990fa515317b43c9c0bf3fca8908b5af"
  },
  "kernelspec": {
   "display_name": "Python 3.9.4 64-bit ('myproject-env': conda)",
   "language": "python",
   "name": "python3"
  },
  "language_info": {
   "codemirror_mode": {
    "name": "ipython",
    "version": 3
   },
   "file_extension": ".py",
   "mimetype": "text/x-python",
   "name": "python",
   "nbconvert_exporter": "python",
   "pygments_lexer": "ipython3",
   "version": "3.9.4"
  },
  "orig_nbformat": 4
 },
 "nbformat": 4,
 "nbformat_minor": 2
}
