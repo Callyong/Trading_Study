{
 "cells": [
  {
   "cell_type": "code",
   "execution_count": 1,
   "metadata": {},
   "outputs": [],
   "source": [
    "from pandas_datareader import data\n",
    "import pandas_datareader as pdr\n",
    "import pandas as pd\n",
    "import numpy as np\n",
    "import talib as ta1\n",
    "import pandas_ta as ta\n",
    "import datetime\n",
    "import requests\n",
    "\n",
    "import warnings\n",
    "warnings.filterwarnings('ignore')\n",
    "warnings.warn('DelftStack')\n",
    "warnings.warn('Do not show this message')\n"
   ]
  },
  {
   "cell_type": "markdown",
   "metadata": {},
   "source": [
    "# Retrieve Trading data from houbi , 4hours"
   ]
  },
  {
   "cell_type": "code",
   "execution_count": 12,
   "metadata": {},
   "outputs": [],
   "source": [
    "ticker = 'ethusdt'\n",
    "base = 'https://api.huobi.pro'\n",
    "url = '/market/history/kline?period=4hour&size=2000&symbol='+ ticker\n",
    "final_url = base + url\n",
    "\n",
    "reqs = requests.get(final_url)\n",
    "\n",
    "df = pd.DataFrame(reqs.json()['data'])\n",
    "df[\"Date\"] = pd.to_datetime(df[\"id\"], unit='s', origin='unix')\n",
    "df[\"Date\"] = df[\"Date\"].dt.strftime(\"%m/%d/%Y %H:%M:%S\")\n",
    "df.drop('id',axis = 1, inplace = True)\n",
    "df['Date'] = pd.to_datetime(df['Date'])\n",
    "df.set_index('Date',inplace = True)\n",
    "df.rename(columns={'high':'High','low':'Low','open':'Open','close':'Close','vol':'Volume'},inplace=True)\n",
    "df['Adj Close']= df['Close']\n",
    "#df = df[['High','Low','Open','Close','Volume','Adj Close']]\n",
    "df.sort_index(inplace = True)\n",
    "\n"
   ]
  },
  {
   "cell_type": "markdown",
   "metadata": {},
   "source": [
    "# Generate Super Tranding "
   ]
  },
  {
   "cell_type": "code",
   "execution_count": 3,
   "metadata": {},
   "outputs": [],
   "source": [
    "df[\"sup\"] = ta.supertrend(high = df[\"High\"], low = df[\"Low\"], close = df[\"Close\"], length = 10, multiplier= 3).iloc[:,0]\n",
    "df[\"supS\"] = ta.supertrend(high = df[\"High\"], low = df[\"Low\"], close = df[\"Close\"], length =34 , multiplier= 3).iloc[:,0]"
   ]
  },
  {
   "cell_type": "markdown",
   "metadata": {},
   "source": [
    "## Super trend Buy Sell Signal"
   ]
  },
  {
   "cell_type": "code",
   "execution_count": 4,
   "metadata": {},
   "outputs": [],
   "source": [
    "df[\"Buy Signal ST\"] = 0\n",
    "df[\"Sell Signal ST\"] = 0 \n",
    "n = 9 \n",
    "for i in range (n,len(df)):\n",
    "    if df[\"Close\"][i-1] <= df[\"sup\"][i-1] and df[\"Close\"][i] > df[\"sup\"][i]:\n",
    "        df[\"Buy Signal ST\"][i] = 1 \n",
    "    if df[\"Close\"][i-1] >= df[\"sup\"][i-1] and df[\"Close\"][i] < df[\"sup\"][i]:\n",
    "        df[\"Sell Signal ST\"][i] = 1\n",
    " \n",
    "df['Budget'] = 100.00"
   ]
  },
  {
   "cell_type": "markdown",
   "metadata": {},
   "source": [
    "# Generate MACD"
   ]
  },
  {
   "cell_type": "code",
   "execution_count": 5,
   "metadata": {},
   "outputs": [],
   "source": [
    "df['MACD_h'] = ta.macd(df['Close'],fast =12 , slow =26 ,signal =9 )['MACDh_12_26_9'] ## MACD insicator\n",
    "df['SMA_200']=ta.sma(df['Close'],length=200) ## Simple Moving aAverage"
   ]
  },
  {
   "cell_type": "code",
   "execution_count": 6,
   "metadata": {},
   "outputs": [],
   "source": [
    "## Calculate gradian \n",
    "df['M'] = np.nan\n",
    "n = 2\n",
    "\n",
    "for y in range(n,len(df)):\n",
    "    df['M'][y] = (df['SMA_200'][y]- df['SMA_200'][y-n]) / n\n"
   ]
  },
  {
   "cell_type": "code",
   "execution_count": null,
   "metadata": {},
   "outputs": [],
   "source": []
  },
  {
   "cell_type": "markdown",
   "metadata": {},
   "source": [
    "## MACD buy sell signal"
   ]
  },
  {
   "cell_type": "code",
   "execution_count": 7,
   "metadata": {},
   "outputs": [],
   "source": [
    "df['MACD Long'] = 0 \n",
    "\n",
    "for j in range(len(df)):\n",
    "    if df['MACD_h'][j] >0 :\n",
    "        df['MACD Long'][j] = 1\n"
   ]
  },
  {
   "cell_type": "markdown",
   "metadata": {},
   "source": [
    "# Back testing For super trend"
   ]
  },
  {
   "cell_type": "code",
   "execution_count": 8,
   "metadata": {},
   "outputs": [
    {
     "data": {
      "text/plain": [
       "\"\\nBuy_qty = 1\\nbuying = False\\ncost = 0 \\n\\nfor x in range(1,len(df)):\\n    if df['Buy Signal ST'][x] == 1 and buying == False :\\n        cost = df['Budget'][x-1] * Buy_qty\\n        df['Budget'][x] = df['Budget'][x-1] * (1- Buy_qty)\\n        buy_price = df['Close'][x]\\n        buying = True\\n\\n    else :\\n        df['Budget'][x] = df['Budget'][x-1]\\n    \\n    if df['Sell Signal ST'][x] == 1 and buying == True:\\n        temp_budget = df['Budget'][x-1]+ (cost * (df['Close'][x]- buy_price)/buy_price) +cost\\n        df['Budget'][x]=round(temp_budget,2)\\n        #print()\\n        buying = False\\n\\n\""
      ]
     },
     "execution_count": 8,
     "metadata": {},
     "output_type": "execute_result"
    }
   ],
   "source": [
    "\n",
    "'''\n",
    "Buy_qty = 1\n",
    "buying = False\n",
    "cost = 0 \n",
    "\n",
    "for x in range(1,len(df)):\n",
    "    if df['Buy Signal ST'][x] == 1 and buying == False :\n",
    "        cost = df['Budget'][x-1] * Buy_qty\n",
    "        df['Budget'][x] = df['Budget'][x-1] * (1- Buy_qty)\n",
    "        buy_price = df['Close'][x]\n",
    "        buying = True\n",
    "\n",
    "    else :\n",
    "        df['Budget'][x] = df['Budget'][x-1]\n",
    "    \n",
    "    if df['Sell Signal ST'][x] == 1 and buying == True:\n",
    "        temp_budget = df['Budget'][x-1]+ (cost * (df['Close'][x]- buy_price)/buy_price) +cost\n",
    "        df['Budget'][x]=round(temp_budget,2)\n",
    "        #print()\n",
    "        buying = False\n",
    "\n",
    "'''\n",
    "\n"
   ]
  },
  {
   "cell_type": "markdown",
   "metadata": {},
   "source": [
    "# Back Test for ST+MACD"
   ]
  },
  {
   "cell_type": "code",
   "execution_count": 9,
   "metadata": {},
   "outputs": [],
   "source": [
    "Buy_qty = 1 # use in percentage (times 100%)\n",
    "buying = False\n",
    "cost = 0 \n",
    "Buying_ST = False\n",
    "TP_ratio, SL_ratio =  0.015 , 0.01 # >>>> Ratio  1.5 : 1 , reference to TRI\n",
    "\n",
    "for k in range(1, len(df)):\n",
    "    ## to store Buy ST buysignal \n",
    "    if df['Buy Signal ST'][k] == 1:\n",
    "        Buying_ST = True\n",
    "    elif df['Sell Signal ST'][k] ==1 :\n",
    "        Buying_ST = False \n",
    "\n",
    "    ## Triger buy if MACD_h >0 & super trend having buy signal\n",
    "    if df['MACD Long'][k] ==1 and buying == False :#and df['M'][k]>2:\n",
    "        if Buying_ST == True:\n",
    "            cost = df['Budget'][k-1] * Buy_qty\n",
    "            df['Budget'][k] = df['Budget'][k-1] * (1- Buy_qty)\n",
    "            buy_price = df['Close'][k]\n",
    "            buying = True\n",
    "            Buying_ST = False\n",
    "\n",
    "            ## create sell price\n",
    "            #S_Price_TP = buy_price * (1 + TP_ratio)\n",
    "            #S_Price_SL = buy_price * (1 - SL_ratio)\n",
    "        else:\n",
    "            df['Budget'][k] = df['Budget'][k-1]\n",
    "    else :\n",
    "        df['Budget'][k] = df['Budget'][k-1]\n",
    "\n",
    "\n",
    "    ## Triger sell if super trend having sell signal  >>> to change buy and sell ratio 1:1.5\n",
    "    if df['Sell Signal ST'][k] == 1 and buying == True:\n",
    "        temp_budget = df['Budget'][k-1]+ (cost * (df['Close'][k]- buy_price)/buy_price) +cost\n",
    "        df['Budget'][k]=round(temp_budget,2)\n",
    "        buying = False\n",
    "\n",
    "\n",
    "\n",
    "        '''    if buying == True: \n",
    "        if df['Close'][k]>= S_Price_TP or df['Close'][k]<= S_Price_SL:         # >>> to change buy and sell ratio 1:1.5\n",
    "            temp_budget = df['Budget'][k-1]+ (cost * (df['Close'][k]- buy_price)/buy_price) +cost\n",
    "            df['Budget'][k]=round(temp_budget,2)\n",
    "            buying = False\n",
    "        elif df['Sell Signal ST'][k] == 1:\n",
    "            temp_budget = df['Budget'][k-1]+ (cost * (df['Close'][k]- buy_price)/buy_price) +cost\n",
    "            df['Budget'][k]=round(temp_budget,2)\n",
    "            buying = False'''\n",
    "\n",
    "\n"
   ]
  },
  {
   "cell_type": "code",
   "execution_count": 10,
   "metadata": {},
   "outputs": [],
   "source": [
    "df_verify =df[['Close','Buy Signal ST','Sell Signal ST','SMA_200','Budget','M']]"
   ]
  },
  {
   "cell_type": "code",
   "execution_count": 11,
   "metadata": {},
   "outputs": [],
   "source": [
    "##analysis purpose , Conclude if close below then dema169 high chance loss trade\n",
    "\n"
   ]
  },
  {
   "cell_type": "markdown",
   "metadata": {},
   "source": [
    "- Long trade >> above dema169 , positive MACD histogram , super trend trigger buy signal  "
   ]
  },
  {
   "cell_type": "code",
   "execution_count": null,
   "metadata": {},
   "outputs": [],
   "source": []
  }
 ],
 "metadata": {
  "interpreter": {
   "hash": "c5dddace277728261e2db8b80bd56b6c990fa515317b43c9c0bf3fca8908b5af"
  },
  "kernelspec": {
   "display_name": "Python 3.9.4 64-bit ('myproject-env': conda)",
   "language": "python",
   "name": "python3"
  },
  "language_info": {
   "codemirror_mode": {
    "name": "ipython",
    "version": 3
   },
   "file_extension": ".py",
   "mimetype": "text/x-python",
   "name": "python",
   "nbconvert_exporter": "python",
   "pygments_lexer": "ipython3",
   "version": "3.9.4"
  },
  "orig_nbformat": 4
 },
 "nbformat": 4,
 "nbformat_minor": 2
}
